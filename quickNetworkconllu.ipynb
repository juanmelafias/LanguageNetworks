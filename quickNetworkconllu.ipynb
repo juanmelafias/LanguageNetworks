{
 "cells": [
  {
   "cell_type": "code",
   "execution_count": 1,
   "metadata": {},
   "outputs": [],
   "source": [
    "import numpy as np; \n",
    "import matplotlib.pyplot as plt; \n",
    "import networkx as nx; \n",
    "import os, sys; \n",
    "from copy import copy; \n",
    "from mpl_toolkits.mplot3d import Axes3D; \n",
    "from pathlib import Path\n",
    "import pandas as pd"
   ]
  },
  {
   "cell_type": "code",
   "execution_count": 3,
   "metadata": {},
   "outputs": [
    {
     "data": {
      "text/plain": [
       "'21    GSD\\nName: corpus, dtype: object'"
      ]
     },
     "execution_count": 3,
     "metadata": {},
     "output_type": "execute_result"
    }
   ],
   "source": [
    "routes = pd.read_csv('csvroutes/rutascorpus.csv')\n",
    "routes = routes.drop('Unnamed: 0',axis = 1)\n",
    "routes[115:]\n",
    "\n",
    "routes['corpus'] = routes.route.apply(lambda x: x.split('/')[3].split('-')[-1])\n",
    "str(routes[routes['language'] == 'Chinese']['corpus'])"
   ]
  },
  {
   "cell_type": "code",
   "execution_count": 28,
   "metadata": {},
   "outputs": [
    {
     "data": {
      "text/html": [
       "<div>\n",
       "<style scoped>\n",
       "    .dataframe tbody tr th:only-of-type {\n",
       "        vertical-align: middle;\n",
       "    }\n",
       "\n",
       "    .dataframe tbody tr th {\n",
       "        vertical-align: top;\n",
       "    }\n",
       "\n",
       "    .dataframe thead th {\n",
       "        text-align: right;\n",
       "    }\n",
       "</style>\n",
       "<table border=\"1\" class=\"dataframe\">\n",
       "  <thead>\n",
       "    <tr style=\"text-align: right;\">\n",
       "      <th></th>\n",
       "      <th>lines</th>\n",
       "      <th>languages</th>\n",
       "    </tr>\n",
       "  </thead>\n",
       "  <tbody>\n",
       "    <tr>\n",
       "      <th>100</th>\n",
       "      <td>50000</td>\n",
       "      <td>50</td>\n",
       "    </tr>\n",
       "  </tbody>\n",
       "</table>\n",
       "</div>"
      ],
      "text/plain": [
       "     lines  languages\n",
       "100  50000         50"
      ]
     },
     "execution_count": 28,
     "metadata": {},
     "output_type": "execute_result"
    }
   ],
   "source": [
    "info = {'lines':[], 'languages':[]}\n",
    "for linelimit in range(0,400001,500):\n",
    "    info['lines'].append(linelimit)\n",
    "    selection = routes[routes['num_lines']>linelimit]\n",
    "    info['languages'].append(len(selection))\n",
    "df = pd.DataFrame(info)\n",
    "df[df['lines']==50000]\n",
    "   \n"
   ]
  },
  {
   "cell_type": "code",
   "execution_count": 38,
   "metadata": {},
   "outputs": [
    {
     "data": {
      "image/png": "[encoded data removed]",
      "text/plain": [
       "<Figure size 432x288 with 1 Axes>"
      ]
     },
     "metadata": {
      "needs_background": "light"
     },
     "output_type": "display_data"
    }
   ],
   "source": [
    "import matplotlib.pyplot as plt\n",
    "fig = plt.figure()\n",
    "ax = fig.add_subplot(111)\n",
    "values = 50\n",
    "markers_on = [99]\n",
    "plt.plot(df['lines'],df['languages'],'-gD',markevery=\n",
    "markers_on)\n",
    "plt.plot(np.ones((len(df),1))*50000,df['languages'])\n",
    "plt.legend(['Evolution','Treshold'])\n",
    "plt.xlabel('Number of lines treshold')\n",
    "plt.ylabel('Languages with lines above treshold')\n",
    "plt.title('Evolution of available languages with increasing lines')\n",
    "ax.text(60000, values+2, \"%d\" %values, ha=\"center\")\n",
    "plt.show()\n"
   ]
  },
  {
   "cell_type": "code",
   "execution_count": 2,
   "metadata": {},
   "outputs": [
    {
     "name": "stdout",
     "output_type": "stream",
     "text": [
      "39279\n",
      "41619\n",
      "41252\n",
      "39892\n",
      "36028\n",
      "40158\n",
      "43775\n",
      "44608\n",
      "30611\n",
      "43919\n",
      "38614\n",
      "42891\n",
      "39952\n",
      "42486\n",
      "40653\n",
      "41102\n",
      "43619\n",
      "42435\n",
      "42349\n",
      "37306\n",
      "43264\n",
      "43447\n",
      "41518\n",
      "44046\n",
      "41603\n",
      "45334\n",
      "39367\n",
      "39752\n",
      "39721\n",
      "41720\n",
      "32722\n",
      "41850\n",
      "34768\n",
      "32470\n",
      "38552\n",
      "43028\n",
      "35445\n",
      "42305\n",
      "41482\n",
      "42289\n",
      "40680\n",
      "43991\n",
      "35708\n",
      "42368\n",
      "43337\n",
      "40204\n",
      "37678\n",
      "39110\n",
      "44957\n",
      "39788\n"
     ]
    }
   ],
   "source": [
    "from utils import file_generator\n",
    "\n",
    "file_generator(numlines = 50000, routesfile='rutascorpus.csv',lemmatized = True)"
   ]
  },
  {
   "cell_type": "code",
   "execution_count": 3,
   "metadata": {},
   "outputs": [
    {
     "ename": "NameError",
     "evalue": "name 'rutas' is not defined",
     "output_type": "error",
     "traceback": [
      "\u001b[1;31m---------------------------------------------------------------------------\u001b[0m",
      "\u001b[1;31mNameError\u001b[0m                                 Traceback (most recent call last)",
      "\u001b[1;32mc:\\Users\\Juan\\NodeMorphospaces\\quickNetworkconllu.ipynb Cell 5'\u001b[0m in \u001b[0;36m<cell line: 2>\u001b[1;34m()\u001b[0m\n\u001b[0;32m      <a href='vscode-notebook-cell:/c%3A/Users/Juan/NodeMorphospaces/quickNetworkconllu.ipynb#ch0000003?line=0'>1</a>\u001b[0m \u001b[39mfrom\u001b[39;00m \u001b[39mutils\u001b[39;00m \u001b[39mimport\u001b[39;00m network_gen,dict2json\n\u001b[1;32m----> <a href='vscode-notebook-cell:/c%3A/Users/Juan/NodeMorphospaces/quickNetworkconllu.ipynb#ch0000003?line=1'>2</a>\u001b[0m \u001b[39mfor\u001b[39;00m file \u001b[39min\u001b[39;00m rutas:\n\u001b[0;32m      <a href='vscode-notebook-cell:/c%3A/Users/Juan/NodeMorphospaces/quickNetworkconllu.ipynb#ch0000003?line=2'>3</a>\u001b[0m     dic,frame\u001b[39m=\u001b[39mnetwork_gen(file,linelimit\u001b[39m=\u001b[39m\u001b[39m50000\u001b[39m,lemmatized\u001b[39m=\u001b[39m\u001b[39m0\u001b[39m)\n\u001b[0;32m      <a href='vscode-notebook-cell:/c%3A/Users/Juan/NodeMorphospaces/quickNetworkconllu.ipynb#ch0000003?line=3'>4</a>\u001b[0m     name \u001b[39m=\u001b[39m file\u001b[39m.\u001b[39msplit(\u001b[39m'\u001b[39m\u001b[39m/\u001b[39m\u001b[39m'\u001b[39m)[\u001b[39m3\u001b[39m]\u001b[39m.\u001b[39msplit(\u001b[39m'\u001b[39m\u001b[39m-\u001b[39m\u001b[39m'\u001b[39m)[\u001b[39m0\u001b[39m]\u001b[39m.\u001b[39mreplace(\u001b[39m'\u001b[39m\u001b[39mUD_\u001b[39m\u001b[39m'\u001b[39m,\u001b[39m'\u001b[39m\u001b[39m'\u001b[39m)\n",
      "\u001b[1;31mNameError\u001b[0m: name 'rutas' is not defined"
     ]
    }
   ],
   "source": [
    "from utils import network_gen,dict2json\n",
    "for file in rutas:\n",
    "    dic,frame=network_gen(file,linelimit=50000,lemmatized=0)\n",
    "    name = file.split('/')[3].split('-')[0].replace('UD_','')\n",
    "    dict2json(dic,f'dictionaries/{name}.json')\n",
    "    frame = pd.DataFrame(frame).transpose()\n",
    "    print(frame['count'].sum())\n",
    "    frame.to_csv(f'dataframes/{name}.csv')\n"
   ]
  },
  {
   "cell_type": "code",
   "execution_count": 55,
   "metadata": {},
   "outputs": [
    {
     "data": {
      "text/plain": [
       "17790"
      ]
     },
     "execution_count": 55,
     "metadata": {},
     "output_type": "execute_result"
    }
   ],
   "source": [
    "from utils import csv2df\n",
    "a = (pd.DataFrame(frame).transpose()).to_csv('prueba.csv')\n",
    "b = csv2df('prueba.csv')\n",
    "b['count'].sum()"
   ]
  },
  {
   "cell_type": "code",
   "execution_count": 29,
   "metadata": {},
   "outputs": [
    {
     "ename": "NameError",
     "evalue": "name 'dicConnections' is not defined",
     "output_type": "error",
     "traceback": [
      "\u001b[1;31m---------------------------------------------------------------------------\u001b[0m",
      "\u001b[1;31mNameError\u001b[0m                                 Traceback (most recent call last)",
      "\u001b[1;32mc:\\Users\\Juan\\NodeMorphospaces\\quickNetworkconllu.ipynb Cell 6'\u001b[0m in \u001b[0;36m<cell line: 2>\u001b[1;34m()\u001b[0m\n\u001b[0;32m      <a href='vscode-notebook-cell:/c%3A/Users/Juan/NodeMorphospaces/quickNetworkconllu.ipynb#ch0000006?line=0'>1</a>\u001b[0m net \u001b[39m=\u001b[39m nx\u001b[39m.\u001b[39mGraph(); \n\u001b[1;32m----> <a href='vscode-notebook-cell:/c%3A/Users/Juan/NodeMorphospaces/quickNetworkconllu.ipynb#ch0000006?line=1'>2</a>\u001b[0m net\u001b[39m.\u001b[39madd_nodes_from(dicConnections\u001b[39m.\u001b[39mkeys()); \n\u001b[0;32m      <a href='vscode-notebook-cell:/c%3A/Users/Juan/NodeMorphospaces/quickNetworkconllu.ipynb#ch0000006?line=2'>3</a>\u001b[0m \u001b[39mfor\u001b[39;00m (k, v) \u001b[39min\u001b[39;00m dicConnections\u001b[39m.\u001b[39mitems():\n\u001b[0;32m      <a href='vscode-notebook-cell:/c%3A/Users/Juan/NodeMorphospaces/quickNetworkconllu.ipynb#ch0000006?line=3'>4</a>\u001b[0m     net\u001b[39m.\u001b[39madd_edges_from(([(k, t) \u001b[39mfor\u001b[39;00m t \u001b[39min\u001b[39;00m v]))\n",
      "\u001b[1;31mNameError\u001b[0m: name 'dicConnections' is not defined"
     ]
    }
   ],
   "source": [
    "net = nx.Graph(); \n",
    "net.add_nodes_from(dicConnections.keys()); \n",
    "for (k, v) in dicConnections.items():\n",
    "    net.add_edges_from(([(k, t) for t in v])); "
   ]
  },
  {
   "cell_type": "code",
   "execution_count": null,
   "metadata": {},
   "outputs": [],
   "source": [
    "plt.figure(); \n",
    "nx.draw(net, with_labels=False, pos=nx.kamada_kawai_layout(net)); \n",
    "\n",
    "plt.show(); "
   ]
  },
  {
   "cell_type": "code",
   "execution_count": 10,
   "metadata": {},
   "outputs": [
    {
     "data": {
      "text/plain": [
       "394"
      ]
     },
     "execution_count": 10,
     "metadata": {},
     "output_type": "execute_result"
    }
   ],
   "source": [
    "mostfreq =a[a['count']>7].unique_id.to_list()\n",
    "len(mostfreq)"
   ]
  },
  {
   "cell_type": "code",
   "execution_count": 35,
   "metadata": {},
   "outputs": [],
   "source": [
    "new_net = {key:net[key] for key in mostfreq}"
   ]
  },
  {
   "cell_type": "code",
   "execution_count": 45,
   "metadata": {},
   "outputs": [
    {
     "data": {
      "image/png": "[encoded data removed]",
      "text/plain": [
       "<Figure size 432x288 with 1 Axes>"
      ]
     },
     "metadata": {},
     "output_type": "display_data"
    }
   ],
   "source": [
    "g = nx.Graph(); \n",
    "g.add_nodes_from(net.keys()); \n",
    "for (k, v) in net.items():\n",
    "    g.add_edges_from(([(k, t) for t in v])); \n",
    "subg = g.subgraph(mostfreq)\n",
    "plt.figure(); \n",
    "nx.draw(subg, with_labels=False, pos=nx.kamada_kawai_layout(subg)); \n",
    "\n",
    "plt.show(); "
   ]
  },
  {
   "cell_type": "code",
   "execution_count": 12,
   "metadata": {},
   "outputs": [
    {
     "data": {
      "text/plain": [
       "['degree',\n",
       " 'eigenvectorCentrality',\n",
       " 'betweennessCentrality',\n",
       " 'closenessCentrality',\n",
       " 'harmonicCentrality',\n",
       " 'componentSize',\n",
       " 'pagerank',\n",
       " 'coreNumber',\n",
       " 'onionLayer',\n",
       " 'effectiveSize',\n",
       " 'nodeCliqueNumber',\n",
       " 'numberOfCliques',\n",
       " 'clustering',\n",
       " 'squareClustering',\n",
       " 'closenessVitality']"
      ]
     },
     "execution_count": 12,
     "metadata": {},
     "output_type": "execute_result"
    }
   ],
   "source": [
    "import helper as h\n",
    "netName = 'English'\n",
    "netPath = 'networks/'\n",
    "fNeighborMean, fNeighborStd = (True, True)\n",
    "(nodeList, propertiesDict) = h.readNetworkProperties(netName, netPath, fNeighborMean, fNeighborStd); \n",
    "(includedProperties, excludedProperties) = h.findPathologicalProperties(propertiesDict); \n",
    "[key for key in propertiesDict.keys()][:15]"
   ]
  },
  {
   "cell_type": "code",
   "execution_count": 22,
   "metadata": {},
   "outputs": [
    {
     "name": "stdout",
     "output_type": "stream",
     "text": [
      "{'componentSize_neighborStd', 'closenessVitality_neighborMean', 'componentSize', 'nodeCliqueNumber', 'coreNumber', 'coreNumber_neighborMean', 'nodeCliqueNumber_neighborStd', 'nodeCliqueNumber_neighborMean', 'closenessVitality', 'componentSize_neighborMean', 'coreNumber_neighborStd'}\n",
      "{'componentSize_neighborStd', 'closenessVitality_neighborMean', 'componentSize', 'closenessVitality', 'componentSize_neighborMean'}\n"
     ]
    }
   ],
   "source": [
    "from utils import build_properties_array_languages\n",
    "arraymeanproperties,dict_pathologies = build_properties_array_languages('networks/')\n",
    "arraymeanpropertieslemma, dict_pathologies_lemma = build_properties_array_languages('networkslemma/')"
   ]
  },
  {
   "cell_type": "code",
   "execution_count": 8,
   "metadata": {},
   "outputs": [
    {
     "data": {
      "text/plain": [
       "dict_keys(['degree', 'eigenvectorCentrality', 'betweennessCentrality', 'closenessCentrality', 'harmonicCentrality', 'componentSize', 'pagerank', 'coreNumber', 'onionLayer', 'effectiveSize', 'nodeCliqueNumber', 'numberOfCliques', 'clustering', 'squareClustering', 'closenessVitality', 'constraint', 'degree_neighborMean', 'eigenvectorCentrality_neighborMean', 'betweennessCentrality_neighborMean', 'closenessCentrality_neighborMean', 'harmonicCentrality_neighborMean', 'componentSize_neighborMean', 'pagerank_neighborMean', 'coreNumber_neighborMean', 'onionLayer_neighborMean', 'effectiveSize_neighborMean', 'nodeCliqueNumber_neighborMean', 'numberOfCliques_neighborMean', 'clustering_neighborMean', 'squareClustering_neighborMean', 'closenessVitality_neighborMean', 'constraint_neighborMean', 'degree_neighborStd', 'eigenvectorCentrality_neighborStd', 'betweennessCentrality_neighborStd', 'closenessCentrality_neighborStd', 'harmonicCentrality_neighborStd', 'componentSize_neighborStd', 'pagerank_neighborStd', 'coreNumber_neighborStd', 'onionLayer_neighborStd', 'effectiveSize_neighborStd', 'nodeCliqueNumber_neighborStd', 'numberOfCliques_neighborStd', 'clustering_neighborStd', 'squareClustering_neighborStd', 'closenessVitality_neighborStd', 'constraint_neighborStd'])"
      ]
     },
     "execution_count": 8,
     "metadata": {},
     "output_type": "execute_result"
    }
   ],
   "source": [
    "from utils import build_language_mean_dict\n",
    "meanpropertiesDict, excludedProperties = build_language_mean_dict('Spanish','networks/',True,True)\n",
    "meanpropertiesDict.keys()"
   ]
  },
  {
   "cell_type": "code",
   "execution_count": null,
   "metadata": {},
   "outputs": [],
   "source": []
  },
  {
   "cell_type": "code",
   "execution_count": 3,
   "metadata": {},
   "outputs": [
    {
     "data": {
      "text/plain": [
       "['degree',\n",
       " 'eigenvectorCentrality',\n",
       " 'betweennessCentrality',\n",
       " 'closenessCentrality',\n",
       " 'harmonicCentrality',\n",
       " 'pagerank',\n",
       " 'coreNumber',\n",
       " 'onionLayer',\n",
       " 'effectiveSize',\n",
       " 'nodeCliqueNumber',\n",
       " 'numberOfCliques',\n",
       " 'clustering',\n",
       " 'squareClustering',\n",
       " 'closenessVitality',\n",
       " 'constraint',\n",
       " 'degree_neighborMean']"
      ]
     },
     "execution_count": 3,
     "metadata": {},
     "output_type": "execute_result"
    }
   ],
   "source": [
    "valid1"
   ]
  },
  {
   "cell_type": "code",
   "execution_count": 1,
   "metadata": {},
   "outputs": [
    {
     "name": "stdout",
     "output_type": "stream",
     "text": [
      "{'componentSize', 'componentSize_neighborStd', 'componentSize_neighborMean'}\n"
     ]
    }
   ],
   "source": [
    "from utils import build_properties_array_languages\n",
    "valid1, arraymeanproperties,dict_pathologies, list_excluded, totals = build_properties_array_languages('files/inflected/networks/',primaries = True)"
   ]
  },
  {
   "cell_type": "code",
   "execution_count": 3,
   "metadata": {},
   "outputs": [],
   "source": [
    "from utils import load_network, csv2df\n",
    "\n",
    "netName = 'Spanish'\n",
    "folderframe = 'files/inflected/dataframes'\n",
    "folderdict = 'files/inflected/dictionaries'\n",
    "langframe = csv2df(f'{folderframe}/{netName}.csv')\n",
    "mostfreq =langframe.unique_id.to_list()\n",
    "jsonfile = f'{folderdict}/{netName}.json'\n",
    "thisNetwork = load_network(jsonfile)\n",
    "thisNetwork=thisNetwork.subgraph(mostfreq)\n",
    "\n",
    "Gcc = sorted(nx.connected_components(thisNetwork), key=len, reverse=True); \n",
    "thisNetwork = nx.Graph(thisNetwork.subgraph(Gcc[0])); \n",
    "nNodes = len(thisNetwork.nodes()); \n",
    "nEdges = thisNetwork.number_of_edges(); "
   ]
  }
 ],
 "metadata": {
  "kernelspec": {
   "display_name": "Python 3.10.4 ('venv': venv)",
   "language": "python",
   "name": "python3"
  },
  "language_info": {
   "codemirror_mode": {
    "name": "ipython",
    "version": 3
   },
   "file_extension": ".py",
   "mimetype": "text/x-python",
   "name": "python",
   "nbconvert_exporter": "python",
   "pygments_lexer": "ipython3",
   "version": "3.10.4"
  },
  "orig_nbformat": 4,
  "vscode": {
   "interpreter": {
    "hash": "7cddcf39c8df6ba480f895cdfdb1db5017c3b68dfb41c39a576d47362d9c7b50"
   }
  }
 },
 "nbformat": 4,
 "nbformat_minor": 2
}
